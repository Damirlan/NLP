{
 "cells": [
  {
   "cell_type": "code",
   "execution_count": 15,
   "id": "33dfeea0",
   "metadata": {},
   "outputs": [
    {
     "name": "stdout",
     "output_type": "stream",
     "text": [
      "Collecting pymorphy2\n",
      "  Downloading pymorphy2-0.9.1-py3-none-any.whl (55 kB)\n",
      "Collecting pymorphy2-dicts-ru<3.0,>=2.4\n",
      "  Downloading pymorphy2_dicts_ru-2.4.417127.4579844-py2.py3-none-any.whl (8.2 MB)\n",
      "Collecting docopt>=0.6\n",
      "  Downloading docopt-0.6.2.tar.gz (25 kB)\n",
      "Collecting dawg-python>=0.7.1\n",
      "  Downloading DAWG_Python-0.7.2-py2.py3-none-any.whl (11 kB)\n",
      "Building wheels for collected packages: docopt\n",
      "  Building wheel for docopt (setup.py): started\n",
      "  Building wheel for docopt (setup.py): finished with status 'done'\n",
      "  Created wheel for docopt: filename=docopt-0.6.2-py2.py3-none-any.whl size=13724 sha256=96c96807368c92b18f629bda67711f73f98707b31d169fe8bdf1195a75ec8b7d\n",
      "  Stored in directory: c:\\users\\damir4k\\appdata\\local\\pip\\cache\\wheels\\70\\4a\\46\\1309fc853b8d395e60bafaf1b6df7845bdd82c95fd59dd8d2b\n",
      "Successfully built docopt\n",
      "Installing collected packages: pymorphy2-dicts-ru, docopt, dawg-python, pymorphy2\n",
      "Successfully installed dawg-python-0.7.2 docopt-0.6.2 pymorphy2-0.9.1 pymorphy2-dicts-ru-2.4.417127.4579844\n"
     ]
    }
   ],
   "source": [
    "!pip install pymorphy2"
   ]
  },
  {
   "cell_type": "markdown",
   "id": "22a9df68",
   "metadata": {},
   "source": [
    "# Разбиение текста на слова и преобразование слов в нормальную форму"
   ]
  },
  {
   "cell_type": "markdown",
   "id": "5033501d",
   "metadata": {},
   "source": [
    "импорт библиотек для анализа"
   ]
  },
  {
   "cell_type": "code",
   "execution_count": 57,
   "id": "facd54d3",
   "metadata": {},
   "outputs": [],
   "source": [
    "import requests\n",
    "import nltk\n",
    "from nltk.tokenize import sent_tokenize, word_tokenize\n",
    "import pymorphy2\n",
    "import pandas as pd"
   ]
  },
  {
   "cell_type": "markdown",
   "id": "104d132a",
   "metadata": {},
   "source": [
    "текст для анализа"
   ]
  },
  {
   "cell_type": "code",
   "execution_count": 58,
   "id": "bb455d2e",
   "metadata": {},
   "outputs": [],
   "source": [
    "text = \"\"\"\n",
    "То, что справедливо и несправедливо – не дано судить людям. Люди вечно заблуждались и \n",
    "будут заблуждаться, и ни в чем больше, как в том, что они считают справедливым и несправедливым\n",
    "\"\"\""
   ]
  },
  {
   "cell_type": "code",
   "execution_count": 46,
   "id": "09aed9a0",
   "metadata": {},
   "outputs": [
    {
     "name": "stderr",
     "output_type": "stream",
     "text": [
      "[nltk_data] Downloading package punkt to\n",
      "[nltk_data]     C:\\Users\\Damir4k\\AppData\\Roaming\\nltk_data...\n",
      "[nltk_data]   Package punkt is already up-to-date!\n"
     ]
    },
    {
     "data": {
      "text/plain": [
       "True"
      ]
     },
     "execution_count": 46,
     "metadata": {},
     "output_type": "execute_result"
    }
   ],
   "source": [
    "nltk.download('punkt')"
   ]
  },
  {
   "cell_type": "markdown",
   "id": "bda4f012",
   "metadata": {},
   "source": [
    "Токенизация по предложениям"
   ]
  },
  {
   "cell_type": "code",
   "execution_count": 47,
   "id": "7b2fbfbe",
   "metadata": {},
   "outputs": [],
   "source": [
    "sentenses = sent_tokenize(text)"
   ]
  },
  {
   "cell_type": "code",
   "execution_count": 48,
   "id": "89e01c1d",
   "metadata": {},
   "outputs": [
    {
     "data": {
      "text/plain": [
       "['\\nТо, что справедливо и несправедливо – не дано судить людям.',\n",
       " 'Люди вечно заблуждались и \\nбудут заблуждаться, и ни в чем больше, как в том, что они считают справедливым и несправедливым']"
      ]
     },
     "execution_count": 48,
     "metadata": {},
     "output_type": "execute_result"
    }
   ],
   "source": [
    "sentenses"
   ]
  },
  {
   "cell_type": "markdown",
   "id": "cf4faca3",
   "metadata": {},
   "source": [
    "Токенизация по словам"
   ]
  },
  {
   "cell_type": "code",
   "execution_count": 49,
   "id": "6a659023",
   "metadata": {},
   "outputs": [],
   "source": [
    "words = word_tokenize(text)"
   ]
  },
  {
   "cell_type": "code",
   "execution_count": 59,
   "id": "4fd9a683",
   "metadata": {},
   "outputs": [
    {
     "data": {
      "text/plain": [
       "['То',\n",
       " ',',\n",
       " 'что',\n",
       " 'справедливо',\n",
       " 'и',\n",
       " 'несправедливо',\n",
       " '–',\n",
       " 'не',\n",
       " 'дано',\n",
       " 'судить',\n",
       " 'людям',\n",
       " '.',\n",
       " 'Люди',\n",
       " 'вечно',\n",
       " 'заблуждались',\n",
       " 'и',\n",
       " 'будут',\n",
       " 'заблуждаться',\n",
       " ',',\n",
       " 'и',\n",
       " 'ни',\n",
       " 'в',\n",
       " 'чем',\n",
       " 'больше',\n",
       " ',',\n",
       " 'как',\n",
       " 'в',\n",
       " 'том',\n",
       " ',',\n",
       " 'что',\n",
       " 'они',\n",
       " 'считают',\n",
       " 'справедливым',\n",
       " 'и',\n",
       " 'несправедливым']"
      ]
     },
     "execution_count": 59,
     "metadata": {},
     "output_type": "execute_result"
    }
   ],
   "source": [
    "words"
   ]
  },
  {
   "cell_type": "markdown",
   "id": "a1acb0cc",
   "metadata": {},
   "source": [
    "Создание объекта для морфологического анализа слов"
   ]
  },
  {
   "cell_type": "code",
   "execution_count": 51,
   "id": "be7c4129",
   "metadata": {},
   "outputs": [],
   "source": [
    "morph = pymorphy2.MorphAnalyzer()"
   ]
  },
  {
   "cell_type": "markdown",
   "id": "98ce40a1",
   "metadata": {},
   "source": [
    "инициализация и заполнение списка слов из текста в нормальной форме"
   ]
  },
  {
   "cell_type": "code",
   "execution_count": 60,
   "id": "8c82ae5e",
   "metadata": {},
   "outputs": [],
   "source": [
    "norm_form_list = []\n",
    "for word in words:\n",
    "    norm_form = morph.parse(word)[0].normal_form\n",
    "    norm_form_list.append(norm_form)"
   ]
  },
  {
   "cell_type": "markdown",
   "id": "ebc1e343",
   "metadata": {},
   "source": [
    "сравнительная таблица преобразования слов в нормальную форму"
   ]
  },
  {
   "cell_type": "code",
   "execution_count": 62,
   "id": "43d898aa",
   "metadata": {},
   "outputs": [],
   "source": [
    "data = {'WORD': words, 'NORMAL FORM': norm_form_list}\n",
    "dframe = pd.DataFrame(data)"
   ]
  },
  {
   "cell_type": "code",
   "execution_count": 63,
   "id": "f78bdcc1",
   "metadata": {},
   "outputs": [
    {
     "data": {
      "text/html": [
       "<div>\n",
       "<style scoped>\n",
       "    .dataframe tbody tr th:only-of-type {\n",
       "        vertical-align: middle;\n",
       "    }\n",
       "\n",
       "    .dataframe tbody tr th {\n",
       "        vertical-align: top;\n",
       "    }\n",
       "\n",
       "    .dataframe thead th {\n",
       "        text-align: right;\n",
       "    }\n",
       "</style>\n",
       "<table border=\"1\" class=\"dataframe\">\n",
       "  <thead>\n",
       "    <tr style=\"text-align: right;\">\n",
       "      <th></th>\n",
       "      <th>WORD</th>\n",
       "      <th>NORMAL FORM</th>\n",
       "    </tr>\n",
       "  </thead>\n",
       "  <tbody>\n",
       "    <tr>\n",
       "      <th>0</th>\n",
       "      <td>То</td>\n",
       "      <td>то</td>\n",
       "    </tr>\n",
       "    <tr>\n",
       "      <th>1</th>\n",
       "      <td>,</td>\n",
       "      <td>,</td>\n",
       "    </tr>\n",
       "    <tr>\n",
       "      <th>2</th>\n",
       "      <td>что</td>\n",
       "      <td>что</td>\n",
       "    </tr>\n",
       "    <tr>\n",
       "      <th>3</th>\n",
       "      <td>справедливо</td>\n",
       "      <td>справедливо</td>\n",
       "    </tr>\n",
       "    <tr>\n",
       "      <th>4</th>\n",
       "      <td>и</td>\n",
       "      <td>и</td>\n",
       "    </tr>\n",
       "    <tr>\n",
       "      <th>5</th>\n",
       "      <td>несправедливо</td>\n",
       "      <td>несправедливый</td>\n",
       "    </tr>\n",
       "    <tr>\n",
       "      <th>6</th>\n",
       "      <td>–</td>\n",
       "      <td>–</td>\n",
       "    </tr>\n",
       "    <tr>\n",
       "      <th>7</th>\n",
       "      <td>не</td>\n",
       "      <td>не</td>\n",
       "    </tr>\n",
       "    <tr>\n",
       "      <th>8</th>\n",
       "      <td>дано</td>\n",
       "      <td>дать</td>\n",
       "    </tr>\n",
       "    <tr>\n",
       "      <th>9</th>\n",
       "      <td>судить</td>\n",
       "      <td>судить</td>\n",
       "    </tr>\n",
       "    <tr>\n",
       "      <th>10</th>\n",
       "      <td>людям</td>\n",
       "      <td>человек</td>\n",
       "    </tr>\n",
       "    <tr>\n",
       "      <th>11</th>\n",
       "      <td>.</td>\n",
       "      <td>.</td>\n",
       "    </tr>\n",
       "    <tr>\n",
       "      <th>12</th>\n",
       "      <td>Люди</td>\n",
       "      <td>человек</td>\n",
       "    </tr>\n",
       "    <tr>\n",
       "      <th>13</th>\n",
       "      <td>вечно</td>\n",
       "      <td>вечно</td>\n",
       "    </tr>\n",
       "    <tr>\n",
       "      <th>14</th>\n",
       "      <td>заблуждались</td>\n",
       "      <td>заблуждаться</td>\n",
       "    </tr>\n",
       "    <tr>\n",
       "      <th>15</th>\n",
       "      <td>и</td>\n",
       "      <td>и</td>\n",
       "    </tr>\n",
       "    <tr>\n",
       "      <th>16</th>\n",
       "      <td>будут</td>\n",
       "      <td>быть</td>\n",
       "    </tr>\n",
       "    <tr>\n",
       "      <th>17</th>\n",
       "      <td>заблуждаться</td>\n",
       "      <td>заблуждаться</td>\n",
       "    </tr>\n",
       "    <tr>\n",
       "      <th>18</th>\n",
       "      <td>,</td>\n",
       "      <td>,</td>\n",
       "    </tr>\n",
       "    <tr>\n",
       "      <th>19</th>\n",
       "      <td>и</td>\n",
       "      <td>и</td>\n",
       "    </tr>\n",
       "    <tr>\n",
       "      <th>20</th>\n",
       "      <td>ни</td>\n",
       "      <td>ни</td>\n",
       "    </tr>\n",
       "    <tr>\n",
       "      <th>21</th>\n",
       "      <td>в</td>\n",
       "      <td>в</td>\n",
       "    </tr>\n",
       "    <tr>\n",
       "      <th>22</th>\n",
       "      <td>чем</td>\n",
       "      <td>чем</td>\n",
       "    </tr>\n",
       "    <tr>\n",
       "      <th>23</th>\n",
       "      <td>больше</td>\n",
       "      <td>большой</td>\n",
       "    </tr>\n",
       "    <tr>\n",
       "      <th>24</th>\n",
       "      <td>,</td>\n",
       "      <td>,</td>\n",
       "    </tr>\n",
       "    <tr>\n",
       "      <th>25</th>\n",
       "      <td>как</td>\n",
       "      <td>как</td>\n",
       "    </tr>\n",
       "    <tr>\n",
       "      <th>26</th>\n",
       "      <td>в</td>\n",
       "      <td>в</td>\n",
       "    </tr>\n",
       "    <tr>\n",
       "      <th>27</th>\n",
       "      <td>том</td>\n",
       "      <td>тот</td>\n",
       "    </tr>\n",
       "    <tr>\n",
       "      <th>28</th>\n",
       "      <td>,</td>\n",
       "      <td>,</td>\n",
       "    </tr>\n",
       "    <tr>\n",
       "      <th>29</th>\n",
       "      <td>что</td>\n",
       "      <td>что</td>\n",
       "    </tr>\n",
       "    <tr>\n",
       "      <th>30</th>\n",
       "      <td>они</td>\n",
       "      <td>они</td>\n",
       "    </tr>\n",
       "    <tr>\n",
       "      <th>31</th>\n",
       "      <td>считают</td>\n",
       "      <td>считать</td>\n",
       "    </tr>\n",
       "    <tr>\n",
       "      <th>32</th>\n",
       "      <td>справедливым</td>\n",
       "      <td>справедливый</td>\n",
       "    </tr>\n",
       "    <tr>\n",
       "      <th>33</th>\n",
       "      <td>и</td>\n",
       "      <td>и</td>\n",
       "    </tr>\n",
       "    <tr>\n",
       "      <th>34</th>\n",
       "      <td>несправедливым</td>\n",
       "      <td>несправедливый</td>\n",
       "    </tr>\n",
       "  </tbody>\n",
       "</table>\n",
       "</div>"
      ],
      "text/plain": [
       "              WORD     NORMAL FORM\n",
       "0               То              то\n",
       "1                ,               ,\n",
       "2              что             что\n",
       "3      справедливо     справедливо\n",
       "4                и               и\n",
       "5    несправедливо  несправедливый\n",
       "6                –               –\n",
       "7               не              не\n",
       "8             дано            дать\n",
       "9           судить          судить\n",
       "10           людям         человек\n",
       "11               .               .\n",
       "12            Люди         человек\n",
       "13           вечно           вечно\n",
       "14    заблуждались    заблуждаться\n",
       "15               и               и\n",
       "16           будут            быть\n",
       "17    заблуждаться    заблуждаться\n",
       "18               ,               ,\n",
       "19               и               и\n",
       "20              ни              ни\n",
       "21               в               в\n",
       "22             чем             чем\n",
       "23          больше         большой\n",
       "24               ,               ,\n",
       "25             как             как\n",
       "26               в               в\n",
       "27             том             тот\n",
       "28               ,               ,\n",
       "29             что             что\n",
       "30             они             они\n",
       "31         считают         считать\n",
       "32    справедливым    справедливый\n",
       "33               и               и\n",
       "34  несправедливым  несправедливый"
      ]
     },
     "execution_count": 63,
     "metadata": {},
     "output_type": "execute_result"
    }
   ],
   "source": [
    "dframe"
   ]
  },
  {
   "cell_type": "code",
   "execution_count": null,
   "id": "473e06de",
   "metadata": {},
   "outputs": [],
   "source": []
  }
 ],
 "metadata": {
  "kernelspec": {
   "display_name": "Python 3 (ipykernel)",
   "language": "python",
   "name": "python3"
  },
  "language_info": {
   "codemirror_mode": {
    "name": "ipython",
    "version": 3
   },
   "file_extension": ".py",
   "mimetype": "text/x-python",
   "name": "python",
   "nbconvert_exporter": "python",
   "pygments_lexer": "ipython3",
   "version": "3.9.7"
  }
 },
 "nbformat": 4,
 "nbformat_minor": 5
}
